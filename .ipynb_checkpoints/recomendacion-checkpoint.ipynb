{
 "cells": [
  {
   "cell_type": "code",
   "execution_count": 1,
   "id": "41042672",
   "metadata": {},
   "outputs": [],
   "source": [
    "import pandas as pd\n",
    "from sklearn.metrics.pairwise import cosine_similarity\n",
    "from sklearn.metrics.pairwise import linear_kernel\n",
    "from sklearn.feature_extraction.text import TfidfVectorizer"
   ]
  },
  {
   "cell_type": "code",
   "execution_count": 2,
   "id": "47f7123e",
   "metadata": {},
   "outputs": [],
   "source": [
    "df = pd.read_csv('juego_ml.csv').drop('Unnamed: 0',axis=1) #Abro el csv de los juegos"
   ]
  },
  {
   "cell_type": "code",
   "execution_count": 27,
   "id": "6e8252ef",
   "metadata": {},
   "outputs": [
    {
     "data": {
      "text/html": [
       "<div>\n",
       "<style scoped>\n",
       "    .dataframe tbody tr th:only-of-type {\n",
       "        vertical-align: middle;\n",
       "    }\n",
       "\n",
       "    .dataframe tbody tr th {\n",
       "        vertical-align: top;\n",
       "    }\n",
       "\n",
       "    .dataframe thead th {\n",
       "        text-align: right;\n",
       "    }\n",
       "</style>\n",
       "<table border=\"1\" class=\"dataframe\">\n",
       "  <thead>\n",
       "    <tr style=\"text-align: right;\">\n",
       "      <th></th>\n",
       "      <th>genres</th>\n",
       "      <th>title</th>\n",
       "      <th>id</th>\n",
       "    </tr>\n",
       "  </thead>\n",
       "  <tbody>\n",
       "    <tr>\n",
       "      <th>0</th>\n",
       "      <td>['Action', 'Casual', 'Indie', 'Simulation', 'S...</td>\n",
       "      <td>Lost Summoner Kitty</td>\n",
       "      <td>761140</td>\n",
       "    </tr>\n",
       "    <tr>\n",
       "      <th>1</th>\n",
       "      <td>['Free to Play', 'Indie', 'RPG', 'Strategy']</td>\n",
       "      <td>Ironbound</td>\n",
       "      <td>643980</td>\n",
       "    </tr>\n",
       "    <tr>\n",
       "      <th>2</th>\n",
       "      <td>['Casual', 'Free to Play', 'Indie', 'Simulatio...</td>\n",
       "      <td>Real Pool 3D - Poolians</td>\n",
       "      <td>670290</td>\n",
       "    </tr>\n",
       "    <tr>\n",
       "      <th>3</th>\n",
       "      <td>['Action', 'Adventure', 'Casual']</td>\n",
       "      <td>弹炸人2222</td>\n",
       "      <td>767400</td>\n",
       "    </tr>\n",
       "    <tr>\n",
       "      <th>4</th>\n",
       "      <td>['Action', 'Adventure', 'Simulation']</td>\n",
       "      <td>Battle Royale Trainer</td>\n",
       "      <td>772540</td>\n",
       "    </tr>\n",
       "  </tbody>\n",
       "</table>\n",
       "</div>"
      ],
      "text/plain": [
       "                                              genres                    title  \\\n",
       "0  ['Action', 'Casual', 'Indie', 'Simulation', 'S...      Lost Summoner Kitty   \n",
       "1       ['Free to Play', 'Indie', 'RPG', 'Strategy']                Ironbound   \n",
       "2  ['Casual', 'Free to Play', 'Indie', 'Simulatio...  Real Pool 3D - Poolians   \n",
       "3                  ['Action', 'Adventure', 'Casual']                  弹炸人2222   \n",
       "4              ['Action', 'Adventure', 'Simulation']    Battle Royale Trainer   \n",
       "\n",
       "       id  \n",
       "0  761140  \n",
       "1  643980  \n",
       "2  670290  \n",
       "3  767400  \n",
       "4  772540  "
      ]
     },
     "execution_count": 27,
     "metadata": {},
     "output_type": "execute_result"
    }
   ],
   "source": [
    "df.head()"
   ]
  },
  {
   "cell_type": "code",
   "execution_count": 4,
   "id": "231f1a5d",
   "metadata": {},
   "outputs": [],
   "source": [
    "tfidf_vectorizer = TfidfVectorizer()\n",
    "tfidf_matrix = tfidf_vectorizer.fit_transform(df['genres']) #Con esto los datos de la columna genero se transforman en vectores numericos para porder entrenarlos y luego los entreno\n",
    "cosine_sim = cosine_similarity(tfidf_matrix, tfidf_matrix) #Aca compara los cosenos de los vectores para encontrar similitudes"
   ]
  },
  {
   "cell_type": "code",
   "execution_count": 5,
   "id": "cf77c58e",
   "metadata": {},
   "outputs": [],
   "source": [
    "def recomendacion_juego(game_id, cosine_sim=cosine_sim, df=df, top_n=5): #Creo la funcion que toma como parametros la id del juego en game_id y los otros son hiperparametros que defino\n",
    "    idx = df.index[df['id'] == game_id].tolist()[0]# Busca el indice del juego del que ingrese el ID\n",
    "    sim_scores = list(enumerate(cosine_sim[idx]))# Optiene la puntuacion de similitud de los cosenos\n",
    "    sim_scores = sorted(sim_scores, key=lambda x: x[1], reverse=True) # Ordena los juegos por la similitud\n",
    "    recommended_indices = [i[0] for i in sim_scores[1:top_n+1]]  # Obtiene los indices de los juegos recomendados\n",
    "    return df['title'].iloc[recommended_indices] # Devuelve los titulos de los juegos recomendados"
   ]
  },
  {
   "cell_type": "code",
   "execution_count": 31,
   "id": "184bd82e",
   "metadata": {},
   "outputs": [
    {
     "data": {
      "text/plain": [
       "42      Atomic Adam: Episode 1\n",
       "396                    Biozone\n",
       "546         Luxor: 5th Passage\n",
       "1336             Dragon's Lair\n",
       "1481     DuckTales: Remastered\n",
       "Name: title, dtype: object"
      ]
     },
     "execution_count": 31,
     "metadata": {},
     "output_type": "execute_result"
    }
   ],
   "source": [
    "recomendacion_juego(game_id=767400)\n"
   ]
  },
  {
   "cell_type": "code",
   "execution_count": 7,
   "id": "b01bf701",
   "metadata": {},
   "outputs": [],
   "source": [
    "df2= pd.read_csv('review_ml.csv') #Abro el csv de las reseñas"
   ]
  },
  {
   "cell_type": "code",
   "execution_count": 8,
   "id": "d4e0ee65",
   "metadata": {},
   "outputs": [],
   "source": [
    "def recomendacion_usuario (id): #Creo la funcion y tomo como parametro la id del usuario\n",
    "    mask= df2['User']== id #Creo una mascara con los registros de la id de usuario\n",
    "    aux= df2[mask] #Creo una tabla con los registros del usuario al que aplico la recomendacion\n",
    "    aux.reset_index(drop=True, inplace=True) #Reseteo los indices ya que quedan en diferentes saltos\n",
    "    recommended_games = recomendacion_juego(game_id=aux['item_id'][0]) #Aqui recomiendo sobre el juego de la primera reseña ya que hay usuarios con muchas reseñas, para recomendar llamo a la funcion anterior\n",
    "    return recommended_games #Devuelve las recomendaciones"
   ]
  },
  {
   "cell_type": "code",
   "execution_count": 26,
   "id": "547078f1",
   "metadata": {},
   "outputs": [
    {
     "data": {
      "text/plain": [
       "25            Twisted Enhanced Edition\n",
       "44                       Advent Rising\n",
       "67    Devil May Cry® 3 Special Edition\n",
       "69                          Final DOOM\n",
       "72                       Ultimate Doom\n",
       "Name: title, dtype: object"
      ]
     },
     "execution_count": 26,
     "metadata": {},
     "output_type": "execute_result"
    }
   ],
   "source": [
    "recomendacion_usuario('Ghoustik')"
   ]
  },
  {
   "cell_type": "code",
   "execution_count": 17,
   "id": "69d5a86e",
   "metadata": {},
   "outputs": [
    {
     "data": {
      "text/html": [
       "<div>\n",
       "<style scoped>\n",
       "    .dataframe tbody tr th:only-of-type {\n",
       "        vertical-align: middle;\n",
       "    }\n",
       "\n",
       "    .dataframe tbody tr th {\n",
       "        vertical-align: top;\n",
       "    }\n",
       "\n",
       "    .dataframe thead th {\n",
       "        text-align: right;\n",
       "    }\n",
       "</style>\n",
       "<table border=\"1\" class=\"dataframe\">\n",
       "  <thead>\n",
       "    <tr style=\"text-align: right;\">\n",
       "      <th></th>\n",
       "      <th>item_id</th>\n",
       "      <th>User</th>\n",
       "    </tr>\n",
       "  </thead>\n",
       "  <tbody>\n",
       "    <tr>\n",
       "      <th>52426</th>\n",
       "      <td>262850</td>\n",
       "      <td>MeloncraftLP</td>\n",
       "    </tr>\n",
       "    <tr>\n",
       "      <th>52427</th>\n",
       "      <td>431510</td>\n",
       "      <td>vinquility</td>\n",
       "    </tr>\n",
       "    <tr>\n",
       "      <th>52428</th>\n",
       "      <td>413150</td>\n",
       "      <td>vinquility</td>\n",
       "    </tr>\n",
       "    <tr>\n",
       "      <th>52429</th>\n",
       "      <td>440</td>\n",
       "      <td>76561198289386531</td>\n",
       "    </tr>\n",
       "    <tr>\n",
       "      <th>52430</th>\n",
       "      <td>304930</td>\n",
       "      <td>76561198289386531</td>\n",
       "    </tr>\n",
       "    <tr>\n",
       "      <th>52431</th>\n",
       "      <td>413150</td>\n",
       "      <td>76561198289386531</td>\n",
       "    </tr>\n",
       "    <tr>\n",
       "      <th>52432</th>\n",
       "      <td>242760</td>\n",
       "      <td>GodLoveGuru</td>\n",
       "    </tr>\n",
       "    <tr>\n",
       "      <th>52433</th>\n",
       "      <td>427730</td>\n",
       "      <td>sexyawp</td>\n",
       "    </tr>\n",
       "    <tr>\n",
       "      <th>52434</th>\n",
       "      <td>280790</td>\n",
       "      <td>76561198296402247</td>\n",
       "    </tr>\n",
       "    <tr>\n",
       "      <th>52435</th>\n",
       "      <td>570</td>\n",
       "      <td>JustMielThings</td>\n",
       "    </tr>\n",
       "    <tr>\n",
       "      <th>52436</th>\n",
       "      <td>261030</td>\n",
       "      <td>76561198306599751</td>\n",
       "    </tr>\n",
       "    <tr>\n",
       "      <th>52437</th>\n",
       "      <td>730</td>\n",
       "      <td>Ghoustik</td>\n",
       "    </tr>\n",
       "    <tr>\n",
       "      <th>52438</th>\n",
       "      <td>570</td>\n",
       "      <td>76561198310819422</td>\n",
       "    </tr>\n",
       "    <tr>\n",
       "      <th>52439</th>\n",
       "      <td>233270</td>\n",
       "      <td>76561198312638244</td>\n",
       "    </tr>\n",
       "    <tr>\n",
       "      <th>52440</th>\n",
       "      <td>130</td>\n",
       "      <td>76561198312638244</td>\n",
       "    </tr>\n",
       "    <tr>\n",
       "      <th>52441</th>\n",
       "      <td>70</td>\n",
       "      <td>76561198312638244</td>\n",
       "    </tr>\n",
       "    <tr>\n",
       "      <th>52442</th>\n",
       "      <td>362890</td>\n",
       "      <td>76561198312638244</td>\n",
       "    </tr>\n",
       "    <tr>\n",
       "      <th>52443</th>\n",
       "      <td>273110</td>\n",
       "      <td>LydiaMorley</td>\n",
       "    </tr>\n",
       "    <tr>\n",
       "      <th>52444</th>\n",
       "      <td>730</td>\n",
       "      <td>LydiaMorley</td>\n",
       "    </tr>\n",
       "    <tr>\n",
       "      <th>52445</th>\n",
       "      <td>440</td>\n",
       "      <td>LydiaMorley</td>\n",
       "    </tr>\n",
       "  </tbody>\n",
       "</table>\n",
       "</div>"
      ],
      "text/plain": [
       "       item_id               User\n",
       "52426   262850       MeloncraftLP\n",
       "52427   431510         vinquility\n",
       "52428   413150         vinquility\n",
       "52429      440  76561198289386531\n",
       "52430   304930  76561198289386531\n",
       "52431   413150  76561198289386531\n",
       "52432   242760        GodLoveGuru\n",
       "52433   427730            sexyawp\n",
       "52434   280790  76561198296402247\n",
       "52435      570     JustMielThings\n",
       "52436   261030  76561198306599751\n",
       "52437      730           Ghoustik\n",
       "52438      570  76561198310819422\n",
       "52439   233270  76561198312638244\n",
       "52440      130  76561198312638244\n",
       "52441       70  76561198312638244\n",
       "52442   362890  76561198312638244\n",
       "52443   273110        LydiaMorley\n",
       "52444      730        LydiaMorley\n",
       "52445      440        LydiaMorley"
      ]
     },
     "execution_count": 17,
     "metadata": {},
     "output_type": "execute_result"
    }
   ],
   "source": [
    "df2.tail(20)"
   ]
  },
  {
   "cell_type": "code",
   "execution_count": null,
   "id": "792b5f39",
   "metadata": {},
   "outputs": [],
   "source": []
  }
 ],
 "metadata": {
  "colab": {
   "provenance": []
  },
  "kernelspec": {
   "display_name": "Python 3 (ipykernel)",
   "language": "python",
   "name": "python3"
  },
  "language_info": {
   "codemirror_mode": {
    "name": "ipython",
    "version": 3
   },
   "file_extension": ".py",
   "mimetype": "text/x-python",
   "name": "python",
   "nbconvert_exporter": "python",
   "pygments_lexer": "ipython3",
   "version": "3.11.3"
  }
 },
 "nbformat": 4,
 "nbformat_minor": 5
}
