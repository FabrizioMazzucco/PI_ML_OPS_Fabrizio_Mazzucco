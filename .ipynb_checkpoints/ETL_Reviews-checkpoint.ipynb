{
 "cells": [
  {
   "cell_type": "code",
   "execution_count": 11,
   "id": "fb7f8728",
   "metadata": {
    "id": "fb7f8728"
   },
   "outputs": [],
   "source": [
    "import pandas as pd\n"
   ]
  },
  {
   "cell_type": "code",
   "execution_count": 6,
   "id": "395096b1",
   "metadata": {},
   "outputs": [
    {
     "data": {
      "text/html": [
       "<div>\n",
       "<style scoped>\n",
       "    .dataframe tbody tr th:only-of-type {\n",
       "        vertical-align: middle;\n",
       "    }\n",
       "\n",
       "    .dataframe tbody tr th {\n",
       "        vertical-align: top;\n",
       "    }\n",
       "\n",
       "    .dataframe thead th {\n",
       "        text-align: right;\n",
       "    }\n",
       "</style>\n",
       "<table border=\"1\" class=\"dataframe\">\n",
       "  <thead>\n",
       "    <tr style=\"text-align: right;\">\n",
       "      <th></th>\n",
       "      <th>user_id</th>\n",
       "      <th>user_url</th>\n",
       "      <th>reviews</th>\n",
       "    </tr>\n",
       "  </thead>\n",
       "  <tbody>\n",
       "    <tr>\n",
       "      <th>0</th>\n",
       "      <td>76561197970982479</td>\n",
       "      <td>http://steamcommunity.com/profiles/76561197970...</td>\n",
       "      <td>[{'funny': '', 'posted': 'Posted November 5, 2...</td>\n",
       "    </tr>\n",
       "    <tr>\n",
       "      <th>1</th>\n",
       "      <td>js41637</td>\n",
       "      <td>http://steamcommunity.com/id/js41637</td>\n",
       "      <td>[{'funny': '', 'posted': 'Posted June 24, 2014...</td>\n",
       "    </tr>\n",
       "    <tr>\n",
       "      <th>2</th>\n",
       "      <td>evcentric</td>\n",
       "      <td>http://steamcommunity.com/id/evcentric</td>\n",
       "      <td>[{'funny': '', 'posted': 'Posted February 3.',...</td>\n",
       "    </tr>\n",
       "    <tr>\n",
       "      <th>3</th>\n",
       "      <td>doctr</td>\n",
       "      <td>http://steamcommunity.com/id/doctr</td>\n",
       "      <td>[{'funny': '', 'posted': 'Posted October 14, 2...</td>\n",
       "    </tr>\n",
       "    <tr>\n",
       "      <th>4</th>\n",
       "      <td>maplemage</td>\n",
       "      <td>http://steamcommunity.com/id/maplemage</td>\n",
       "      <td>[{'funny': '3 people found this review funny',...</td>\n",
       "    </tr>\n",
       "  </tbody>\n",
       "</table>\n",
       "</div>"
      ],
      "text/plain": [
       "             user_id                                           user_url  \\\n",
       "0  76561197970982479  http://steamcommunity.com/profiles/76561197970...   \n",
       "1            js41637               http://steamcommunity.com/id/js41637   \n",
       "2          evcentric             http://steamcommunity.com/id/evcentric   \n",
       "3              doctr                 http://steamcommunity.com/id/doctr   \n",
       "4          maplemage             http://steamcommunity.com/id/maplemage   \n",
       "\n",
       "                                             reviews  \n",
       "0  [{'funny': '', 'posted': 'Posted November 5, 2...  \n",
       "1  [{'funny': '', 'posted': 'Posted June 24, 2014...  \n",
       "2  [{'funny': '', 'posted': 'Posted February 3.',...  \n",
       "3  [{'funny': '', 'posted': 'Posted October 14, 2...  \n",
       "4  [{'funny': '3 people found this review funny',...  "
      ]
     },
     "execution_count": 6,
     "metadata": {},
     "output_type": "execute_result"
    }
   ],
   "source": [
    "with open(\"reviews.json\", 'r', encoding='utf-8') as w: #Abro el json de las reviews\n",
    "    data = w.readlines()\n",
    "    \n",
    "datos = [eval(line.strip()) for line in data]\n",
    "\n",
    "resenia = pd.DataFrame(datos)"
   ]
  },
  {
   "cell_type": "code",
   "execution_count": null,
   "id": "07546bec",
   "metadata": {},
   "outputs": [],
   "source": [
    "resenia.to_csv('resenia.csv') #Guardo las reviews en csv para que sea mas facil abrir"
   ]
  },
  {
   "cell_type": "code",
   "execution_count": 28,
   "id": "75a5a07a",
   "metadata": {},
   "outputs": [
    {
     "data": {
      "text/html": [
       "<div>\n",
       "<style scoped>\n",
       "    .dataframe tbody tr th:only-of-type {\n",
       "        vertical-align: middle;\n",
       "    }\n",
       "\n",
       "    .dataframe tbody tr th {\n",
       "        vertical-align: top;\n",
       "    }\n",
       "\n",
       "    .dataframe thead th {\n",
       "        text-align: right;\n",
       "    }\n",
       "</style>\n",
       "<table border=\"1\" class=\"dataframe\">\n",
       "  <thead>\n",
       "    <tr style=\"text-align: right;\">\n",
       "      <th></th>\n",
       "      <th>Unnamed: 0</th>\n",
       "      <th>user_id</th>\n",
       "      <th>user_url</th>\n",
       "      <th>reviews</th>\n",
       "    </tr>\n",
       "  </thead>\n",
       "  <tbody>\n",
       "    <tr>\n",
       "      <th>0</th>\n",
       "      <td>0</td>\n",
       "      <td>76561197970982479</td>\n",
       "      <td>http://steamcommunity.com/profiles/76561197970...</td>\n",
       "      <td>[{'funny': '', 'posted': 'Posted November 5, 2...</td>\n",
       "    </tr>\n",
       "    <tr>\n",
       "      <th>1</th>\n",
       "      <td>1</td>\n",
       "      <td>js41637</td>\n",
       "      <td>http://steamcommunity.com/id/js41637</td>\n",
       "      <td>[{'funny': '', 'posted': 'Posted June 24, 2014...</td>\n",
       "    </tr>\n",
       "    <tr>\n",
       "      <th>2</th>\n",
       "      <td>2</td>\n",
       "      <td>evcentric</td>\n",
       "      <td>http://steamcommunity.com/id/evcentric</td>\n",
       "      <td>[{'funny': '', 'posted': 'Posted February 3.',...</td>\n",
       "    </tr>\n",
       "    <tr>\n",
       "      <th>3</th>\n",
       "      <td>3</td>\n",
       "      <td>doctr</td>\n",
       "      <td>http://steamcommunity.com/id/doctr</td>\n",
       "      <td>[{'funny': '', 'posted': 'Posted October 14, 2...</td>\n",
       "    </tr>\n",
       "    <tr>\n",
       "      <th>4</th>\n",
       "      <td>4</td>\n",
       "      <td>maplemage</td>\n",
       "      <td>http://steamcommunity.com/id/maplemage</td>\n",
       "      <td>[{'funny': '3 people found this review funny',...</td>\n",
       "    </tr>\n",
       "  </tbody>\n",
       "</table>\n",
       "</div>"
      ],
      "text/plain": [
       "   Unnamed: 0            user_id  \\\n",
       "0           0  76561197970982479   \n",
       "1           1            js41637   \n",
       "2           2          evcentric   \n",
       "3           3              doctr   \n",
       "4           4          maplemage   \n",
       "\n",
       "                                            user_url  \\\n",
       "0  http://steamcommunity.com/profiles/76561197970...   \n",
       "1               http://steamcommunity.com/id/js41637   \n",
       "2             http://steamcommunity.com/id/evcentric   \n",
       "3                 http://steamcommunity.com/id/doctr   \n",
       "4             http://steamcommunity.com/id/maplemage   \n",
       "\n",
       "                                             reviews  \n",
       "0  [{'funny': '', 'posted': 'Posted November 5, 2...  \n",
       "1  [{'funny': '', 'posted': 'Posted June 24, 2014...  \n",
       "2  [{'funny': '', 'posted': 'Posted February 3.',...  \n",
       "3  [{'funny': '', 'posted': 'Posted October 14, 2...  \n",
       "4  [{'funny': '3 people found this review funny',...  "
      ]
     },
     "execution_count": 28,
     "metadata": {},
     "output_type": "execute_result"
    }
   ],
   "source": [
    "resenia= pd.read_csv('resenia.csv') #Abro y muestro su contenido\n",
    "resenia.head()"
   ]
  },
  {
   "cell_type": "code",
   "execution_count": 29,
   "id": "71666da9",
   "metadata": {},
   "outputs": [
    {
     "data": {
      "text/html": [
       "<div>\n",
       "<style scoped>\n",
       "    .dataframe tbody tr th:only-of-type {\n",
       "        vertical-align: middle;\n",
       "    }\n",
       "\n",
       "    .dataframe tbody tr th {\n",
       "        vertical-align: top;\n",
       "    }\n",
       "\n",
       "    .dataframe thead th {\n",
       "        text-align: right;\n",
       "    }\n",
       "</style>\n",
       "<table border=\"1\" class=\"dataframe\">\n",
       "  <thead>\n",
       "    <tr style=\"text-align: right;\">\n",
       "      <th></th>\n",
       "      <th>user_id</th>\n",
       "      <th>user_url</th>\n",
       "      <th>reviews</th>\n",
       "    </tr>\n",
       "  </thead>\n",
       "  <tbody>\n",
       "    <tr>\n",
       "      <th>0</th>\n",
       "      <td>76561197970982479</td>\n",
       "      <td>http://steamcommunity.com/profiles/76561197970...</td>\n",
       "      <td>[{'funny': '', 'posted': 'Posted November 5, 2...</td>\n",
       "    </tr>\n",
       "    <tr>\n",
       "      <th>1</th>\n",
       "      <td>js41637</td>\n",
       "      <td>http://steamcommunity.com/id/js41637</td>\n",
       "      <td>[{'funny': '', 'posted': 'Posted June 24, 2014...</td>\n",
       "    </tr>\n",
       "    <tr>\n",
       "      <th>2</th>\n",
       "      <td>evcentric</td>\n",
       "      <td>http://steamcommunity.com/id/evcentric</td>\n",
       "      <td>[{'funny': '', 'posted': 'Posted February 3.',...</td>\n",
       "    </tr>\n",
       "    <tr>\n",
       "      <th>3</th>\n",
       "      <td>doctr</td>\n",
       "      <td>http://steamcommunity.com/id/doctr</td>\n",
       "      <td>[{'funny': '', 'posted': 'Posted October 14, 2...</td>\n",
       "    </tr>\n",
       "    <tr>\n",
       "      <th>4</th>\n",
       "      <td>maplemage</td>\n",
       "      <td>http://steamcommunity.com/id/maplemage</td>\n",
       "      <td>[{'funny': '3 people found this review funny',...</td>\n",
       "    </tr>\n",
       "  </tbody>\n",
       "</table>\n",
       "</div>"
      ],
      "text/plain": [
       "             user_id                                           user_url  \\\n",
       "0  76561197970982479  http://steamcommunity.com/profiles/76561197970...   \n",
       "1            js41637               http://steamcommunity.com/id/js41637   \n",
       "2          evcentric             http://steamcommunity.com/id/evcentric   \n",
       "3              doctr                 http://steamcommunity.com/id/doctr   \n",
       "4          maplemage             http://steamcommunity.com/id/maplemage   \n",
       "\n",
       "                                             reviews  \n",
       "0  [{'funny': '', 'posted': 'Posted November 5, 2...  \n",
       "1  [{'funny': '', 'posted': 'Posted June 24, 2014...  \n",
       "2  [{'funny': '', 'posted': 'Posted February 3.',...  \n",
       "3  [{'funny': '', 'posted': 'Posted October 14, 2...  \n",
       "4  [{'funny': '3 people found this review funny',...  "
      ]
     },
     "execution_count": 29,
     "metadata": {},
     "output_type": "execute_result"
    }
   ],
   "source": [
    "resenia=resenia.drop(['Unnamed: 0'], axis=1) #Borro la columna generada de los indices cuando se guarda el csv\n",
    "resenia.head()"
   ]
  },
  {
   "cell_type": "code",
   "execution_count": null,
   "id": "9af8088c",
   "metadata": {},
   "outputs": [],
   "source": [
    "resenia.to_csv('resenia_limpio.csv', index = False) #Guardo sin el indice"
   ]
  },
  {
   "cell_type": "code",
   "execution_count": 30,
   "id": "d318e6d2",
   "metadata": {},
   "outputs": [],
   "source": [
    "resenia_limpia= pd.read_csv('resenia_limpio.csv') #Abro"
   ]
  },
  {
   "cell_type": "code",
   "execution_count": 31,
   "id": "93ae3124",
   "metadata": {},
   "outputs": [
    {
     "data": {
      "text/html": [
       "<div>\n",
       "<style scoped>\n",
       "    .dataframe tbody tr th:only-of-type {\n",
       "        vertical-align: middle;\n",
       "    }\n",
       "\n",
       "    .dataframe tbody tr th {\n",
       "        vertical-align: top;\n",
       "    }\n",
       "\n",
       "    .dataframe thead th {\n",
       "        text-align: right;\n",
       "    }\n",
       "</style>\n",
       "<table border=\"1\" class=\"dataframe\">\n",
       "  <thead>\n",
       "    <tr style=\"text-align: right;\">\n",
       "      <th></th>\n",
       "      <th>user_id</th>\n",
       "      <th>user_url</th>\n",
       "      <th>reviews</th>\n",
       "    </tr>\n",
       "  </thead>\n",
       "  <tbody>\n",
       "    <tr>\n",
       "      <th>0</th>\n",
       "      <td>76561197970982479</td>\n",
       "      <td>http://steamcommunity.com/profiles/76561197970...</td>\n",
       "      <td>[{'funny': '', 'posted': 'Posted November 5, 2...</td>\n",
       "    </tr>\n",
       "    <tr>\n",
       "      <th>1</th>\n",
       "      <td>js41637</td>\n",
       "      <td>http://steamcommunity.com/id/js41637</td>\n",
       "      <td>[{'funny': '', 'posted': 'Posted June 24, 2014...</td>\n",
       "    </tr>\n",
       "    <tr>\n",
       "      <th>2</th>\n",
       "      <td>evcentric</td>\n",
       "      <td>http://steamcommunity.com/id/evcentric</td>\n",
       "      <td>[{'funny': '', 'posted': 'Posted February 3.',...</td>\n",
       "    </tr>\n",
       "    <tr>\n",
       "      <th>3</th>\n",
       "      <td>doctr</td>\n",
       "      <td>http://steamcommunity.com/id/doctr</td>\n",
       "      <td>[{'funny': '', 'posted': 'Posted October 14, 2...</td>\n",
       "    </tr>\n",
       "    <tr>\n",
       "      <th>4</th>\n",
       "      <td>maplemage</td>\n",
       "      <td>http://steamcommunity.com/id/maplemage</td>\n",
       "      <td>[{'funny': '3 people found this review funny',...</td>\n",
       "    </tr>\n",
       "  </tbody>\n",
       "</table>\n",
       "</div>"
      ],
      "text/plain": [
       "             user_id                                           user_url  \\\n",
       "0  76561197970982479  http://steamcommunity.com/profiles/76561197970...   \n",
       "1            js41637               http://steamcommunity.com/id/js41637   \n",
       "2          evcentric             http://steamcommunity.com/id/evcentric   \n",
       "3              doctr                 http://steamcommunity.com/id/doctr   \n",
       "4          maplemage             http://steamcommunity.com/id/maplemage   \n",
       "\n",
       "                                             reviews  \n",
       "0  [{'funny': '', 'posted': 'Posted November 5, 2...  \n",
       "1  [{'funny': '', 'posted': 'Posted June 24, 2014...  \n",
       "2  [{'funny': '', 'posted': 'Posted February 3.',...  \n",
       "3  [{'funny': '', 'posted': 'Posted October 14, 2...  \n",
       "4  [{'funny': '3 people found this review funny',...  "
      ]
     },
     "execution_count": 31,
     "metadata": {},
     "output_type": "execute_result"
    }
   ],
   "source": [
    "resenia_limpia.head() #Reviso"
   ]
  },
  {
   "cell_type": "code",
   "execution_count": 32,
   "id": "285bbc09",
   "metadata": {},
   "outputs": [
    {
     "data": {
      "text/plain": [
       "'[{\\'funny\\': \\'\\', \\'posted\\': \\'Posted November 5, 2011.\\', \\'last_edited\\': \\'\\', \\'item_id\\': \\'1250\\', \\'helpful\\': \\'No ratings yet\\', \\'recommend\\': True, \\'review\\': \\'Simple yet with great replayability. In my opinion does \"zombie\" hordes and team work better than left 4 dead plus has a global leveling system. Alot of down to earth \"zombie\" splattering fun for the whole family. Amazed this sort of FPS is so rare.\\'}, {\\'funny\\': \\'\\', \\'posted\\': \\'Posted July 15, 2011.\\', \\'last_edited\\': \\'\\', \\'item_id\\': \\'22200\\', \\'helpful\\': \\'No ratings yet\\', \\'recommend\\': True, \\'review\\': \"It\\'s unique and worth a playthrough.\"}, {\\'funny\\': \\'\\', \\'posted\\': \\'Posted April 21, 2011.\\', \\'last_edited\\': \\'\\', \\'item_id\\': \\'43110\\', \\'helpful\\': \\'No ratings yet\\', \\'recommend\\': True, \\'review\\': \\'Great atmosphere. The gunplay can be a bit chunky at times but at the end of the day this game is definitely worth it and I hope they do a sequel...so buy the game so I get a sequel!\\'}]'"
      ]
     },
     "execution_count": 32,
     "metadata": {},
     "output_type": "execute_result"
    }
   ],
   "source": [
    "resenia_limpia['reviews'][0] #Reviso las reseñas de los usuarios"
   ]
  },
  {
   "cell_type": "code",
   "execution_count": 33,
   "id": "3d02f818",
   "metadata": {},
   "outputs": [],
   "source": [
    "resenia_limpia['reviews']  = resenia_limpia['reviews'].str[1:-1] #Elimino los corchetes para normalizar en diccionario"
   ]
  },
  {
   "cell_type": "code",
   "execution_count": 34,
   "id": "1af8be3f",
   "metadata": {},
   "outputs": [
    {
     "data": {
      "text/plain": [
       "'{\\'funny\\': \\'\\', \\'posted\\': \\'Posted November 5, 2011.\\', \\'last_edited\\': \\'\\', \\'item_id\\': \\'1250\\', \\'helpful\\': \\'No ratings yet\\', \\'recommend\\': True, \\'review\\': \\'Simple yet with great replayability. In my opinion does \"zombie\" hordes and team work better than left 4 dead plus has a global leveling system. Alot of down to earth \"zombie\" splattering fun for the whole family. Amazed this sort of FPS is so rare.\\'}, {\\'funny\\': \\'\\', \\'posted\\': \\'Posted July 15, 2011.\\', \\'last_edited\\': \\'\\', \\'item_id\\': \\'22200\\', \\'helpful\\': \\'No ratings yet\\', \\'recommend\\': True, \\'review\\': \"It\\'s unique and worth a playthrough.\"}, {\\'funny\\': \\'\\', \\'posted\\': \\'Posted April 21, 2011.\\', \\'last_edited\\': \\'\\', \\'item_id\\': \\'43110\\', \\'helpful\\': \\'No ratings yet\\', \\'recommend\\': True, \\'review\\': \\'Great atmosphere. The gunplay can be a bit chunky at times but at the end of the day this game is definitely worth it and I hope they do a sequel...so buy the game so I get a sequel!\\'}'"
      ]
     },
     "execution_count": 34,
     "metadata": {},
     "output_type": "execute_result"
    }
   ],
   "source": [
    "resenia_limpia['reviews'][0] #Reviso"
   ]
  },
  {
   "cell_type": "code",
   "execution_count": 35,
   "id": "d0b32a0b",
   "metadata": {},
   "outputs": [],
   "source": [
    "resenia_limpia['reviews']= resenia_limpia['reviews'].str.split('}, {') #Separo las reseñas"
   ]
  },
  {
   "cell_type": "code",
   "execution_count": 37,
   "id": "76a73d2c",
   "metadata": {},
   "outputs": [],
   "source": [
    "resenia_limpia=resenia_limpia.explode('reviews', ignore_index=True) #Multiplico los registros para que quede un registro por reseña y no un registro con muchas reseñas"
   ]
  },
  {
   "cell_type": "code",
   "execution_count": 11,
   "id": "ba8d412d",
   "metadata": {},
   "outputs": [
    {
     "data": {
      "text/html": [
       "<div>\n",
       "<style scoped>\n",
       "    .dataframe tbody tr th:only-of-type {\n",
       "        vertical-align: middle;\n",
       "    }\n",
       "\n",
       "    .dataframe tbody tr th {\n",
       "        vertical-align: top;\n",
       "    }\n",
       "\n",
       "    .dataframe thead th {\n",
       "        text-align: right;\n",
       "    }\n",
       "</style>\n",
       "<table border=\"1\" class=\"dataframe\">\n",
       "  <thead>\n",
       "    <tr style=\"text-align: right;\">\n",
       "      <th></th>\n",
       "      <th>user_id</th>\n",
       "      <th>user_url</th>\n",
       "      <th>reviews</th>\n",
       "    </tr>\n",
       "  </thead>\n",
       "  <tbody>\n",
       "    <tr>\n",
       "      <th>0</th>\n",
       "      <td>76561197970982479</td>\n",
       "      <td>http://steamcommunity.com/profiles/76561197970...</td>\n",
       "      <td>{'funny': '', 'posted': 'Posted November 5, 20...</td>\n",
       "    </tr>\n",
       "    <tr>\n",
       "      <th>1</th>\n",
       "      <td>76561197970982479</td>\n",
       "      <td>http://steamcommunity.com/profiles/76561197970...</td>\n",
       "      <td>'funny': '', 'posted': 'Posted July 15, 2011.'...</td>\n",
       "    </tr>\n",
       "    <tr>\n",
       "      <th>2</th>\n",
       "      <td>76561197970982479</td>\n",
       "      <td>http://steamcommunity.com/profiles/76561197970...</td>\n",
       "      <td>'funny': '', 'posted': 'Posted April 21, 2011....</td>\n",
       "    </tr>\n",
       "    <tr>\n",
       "      <th>3</th>\n",
       "      <td>js41637</td>\n",
       "      <td>http://steamcommunity.com/id/js41637</td>\n",
       "      <td>{'funny': '', 'posted': 'Posted June 24, 2014....</td>\n",
       "    </tr>\n",
       "    <tr>\n",
       "      <th>4</th>\n",
       "      <td>js41637</td>\n",
       "      <td>http://steamcommunity.com/id/js41637</td>\n",
       "      <td>'funny': '', 'posted': 'Posted September 8, 20...</td>\n",
       "    </tr>\n",
       "  </tbody>\n",
       "</table>\n",
       "</div>"
      ],
      "text/plain": [
       "             user_id                                           user_url  \\\n",
       "0  76561197970982479  http://steamcommunity.com/profiles/76561197970...   \n",
       "1  76561197970982479  http://steamcommunity.com/profiles/76561197970...   \n",
       "2  76561197970982479  http://steamcommunity.com/profiles/76561197970...   \n",
       "3            js41637               http://steamcommunity.com/id/js41637   \n",
       "4            js41637               http://steamcommunity.com/id/js41637   \n",
       "\n",
       "                                             reviews  \n",
       "0  {'funny': '', 'posted': 'Posted November 5, 20...  \n",
       "1  'funny': '', 'posted': 'Posted July 15, 2011.'...  \n",
       "2  'funny': '', 'posted': 'Posted April 21, 2011....  \n",
       "3  {'funny': '', 'posted': 'Posted June 24, 2014....  \n",
       "4  'funny': '', 'posted': 'Posted September 8, 20...  "
      ]
     },
     "execution_count": 11,
     "metadata": {},
     "output_type": "execute_result"
    }
   ],
   "source": [
    "resenia_limpia.head() #Reviso"
   ]
  },
  {
   "cell_type": "code",
   "execution_count": 38,
   "id": "c96b48c3",
   "metadata": {},
   "outputs": [],
   "source": [
    "resenia_limpia['reviews'] = resenia_limpia['reviews'].str.replace(\"{\", \" \") #Normalizo las reseñas para que queden todas iguales sin llaves ya que algunas tienen llaves y otras no"
   ]
  },
  {
   "cell_type": "code",
   "execution_count": 40,
   "id": "a3bcabb4",
   "metadata": {},
   "outputs": [],
   "source": [
    "resenia_limpia['reviews'] = resenia_limpia['reviews'].str.replace(\"}\", \" \")"
   ]
  },
  {
   "cell_type": "code",
   "execution_count": 41,
   "id": "c43a7f12",
   "metadata": {},
   "outputs": [],
   "source": [
    "resenia_limpia['reviews'] = resenia_limpia['reviews'].apply(lambda x: \"{\" + x + \"}\") #Le agrego las llaves"
   ]
  },
  {
   "cell_type": "code",
   "execution_count": null,
   "id": "f27df15f",
   "metadata": {},
   "outputs": [],
   "source": [
    "import as #Convierto las reseñas en diccionarios\n",
    "def texto_a_diccionario(texto):\n",
    "    try:\n",
    "        if texto.startswith(\"{\") and texto.endswith(\"}\"):\n",
    "            diccionario = ast.literal_eval(texto)\n",
    "            return diccionario\n",
    "        else:\n",
    "            return None\n",
    "    except Exception as e:\n",
    "        return None  \n",
    "resenia_limpia['reviews'] = resenia_limpia['reviews'].apply(texto_a_diccionario)"
   ]
  },
  {
   "cell_type": "code",
   "execution_count": 43,
   "id": "3a0ee132",
   "metadata": {},
   "outputs": [
    {
     "data": {
      "text/plain": [
       "{'funny': '2 people found this review funny',\n",
       " 'posted': 'Posted May 23, 2015.',\n",
       " 'last_edited': '',\n",
       " 'item_id': '366660',\n",
       " 'helpful': '0 of 1 people (0%) found this review helpful',\n",
       " 'recommend': True,\n",
       " 'review': 'É DO ♥♥♥♥♥♥♥COMPRA LOGO FDP'}"
      ]
     },
     "execution_count": 43,
     "metadata": {},
     "output_type": "execute_result"
    }
   ],
   "source": [
    "resenia_limpia['reviews'][1259] #Reviso"
   ]
  },
  {
   "cell_type": "code",
   "execution_count": 44,
   "id": "3bf23b0a",
   "metadata": {},
   "outputs": [],
   "source": [
    "columna_res= pd.json_normalize(resenia_limpia['reviews']) #Convierto las reseñas en un dataframe"
   ]
  },
  {
   "cell_type": "code",
   "execution_count": 45,
   "id": "bb1485a0",
   "metadata": {},
   "outputs": [
    {
     "data": {
      "text/html": [
       "<div>\n",
       "<style scoped>\n",
       "    .dataframe tbody tr th:only-of-type {\n",
       "        vertical-align: middle;\n",
       "    }\n",
       "\n",
       "    .dataframe tbody tr th {\n",
       "        vertical-align: top;\n",
       "    }\n",
       "\n",
       "    .dataframe thead th {\n",
       "        text-align: right;\n",
       "    }\n",
       "</style>\n",
       "<table border=\"1\" class=\"dataframe\">\n",
       "  <thead>\n",
       "    <tr style=\"text-align: right;\">\n",
       "      <th></th>\n",
       "      <th>funny</th>\n",
       "      <th>posted</th>\n",
       "      <th>last_edited</th>\n",
       "      <th>item_id</th>\n",
       "      <th>helpful</th>\n",
       "      <th>recommend</th>\n",
       "      <th>review</th>\n",
       "    </tr>\n",
       "  </thead>\n",
       "  <tbody>\n",
       "    <tr>\n",
       "      <th>0</th>\n",
       "      <td></td>\n",
       "      <td>Posted November 5, 2011.</td>\n",
       "      <td></td>\n",
       "      <td>1250</td>\n",
       "      <td>No ratings yet</td>\n",
       "      <td>True</td>\n",
       "      <td>Simple yet with great replayability. In my opi...</td>\n",
       "    </tr>\n",
       "    <tr>\n",
       "      <th>1</th>\n",
       "      <td></td>\n",
       "      <td>Posted July 15, 2011.</td>\n",
       "      <td></td>\n",
       "      <td>22200</td>\n",
       "      <td>No ratings yet</td>\n",
       "      <td>True</td>\n",
       "      <td>It's unique and worth a playthrough.</td>\n",
       "    </tr>\n",
       "    <tr>\n",
       "      <th>2</th>\n",
       "      <td></td>\n",
       "      <td>Posted April 21, 2011.</td>\n",
       "      <td></td>\n",
       "      <td>43110</td>\n",
       "      <td>No ratings yet</td>\n",
       "      <td>True</td>\n",
       "      <td>Great atmosphere. The gunplay can be a bit chu...</td>\n",
       "    </tr>\n",
       "    <tr>\n",
       "      <th>3</th>\n",
       "      <td></td>\n",
       "      <td>Posted June 24, 2014.</td>\n",
       "      <td></td>\n",
       "      <td>251610</td>\n",
       "      <td>15 of 20 people (75%) found this review helpful</td>\n",
       "      <td>True</td>\n",
       "      <td>I know what you think when you see this title ...</td>\n",
       "    </tr>\n",
       "    <tr>\n",
       "      <th>4</th>\n",
       "      <td></td>\n",
       "      <td>Posted September 8, 2013.</td>\n",
       "      <td></td>\n",
       "      <td>227300</td>\n",
       "      <td>0 of 1 people (0%) found this review helpful</td>\n",
       "      <td>True</td>\n",
       "      <td>For a simple (it's actually not all that simpl...</td>\n",
       "    </tr>\n",
       "  </tbody>\n",
       "</table>\n",
       "</div>"
      ],
      "text/plain": [
       "  funny                     posted last_edited item_id  \\\n",
       "0         Posted November 5, 2011.                1250   \n",
       "1            Posted July 15, 2011.               22200   \n",
       "2           Posted April 21, 2011.               43110   \n",
       "3            Posted June 24, 2014.              251610   \n",
       "4        Posted September 8, 2013.              227300   \n",
       "\n",
       "                                           helpful recommend  \\\n",
       "0                                   No ratings yet      True   \n",
       "1                                   No ratings yet      True   \n",
       "2                                   No ratings yet      True   \n",
       "3  15 of 20 people (75%) found this review helpful      True   \n",
       "4     0 of 1 people (0%) found this review helpful      True   \n",
       "\n",
       "                                              review  \n",
       "0  Simple yet with great replayability. In my opi...  \n",
       "1               It's unique and worth a playthrough.  \n",
       "2  Great atmosphere. The gunplay can be a bit chu...  \n",
       "3  I know what you think when you see this title ...  \n",
       "4  For a simple (it's actually not all that simpl...  "
      ]
     },
     "execution_count": 45,
     "metadata": {},
     "output_type": "execute_result"
    }
   ],
   "source": [
    "columna_res.head() #Reviso"
   ]
  },
  {
   "cell_type": "code",
   "execution_count": 46,
   "id": "d4b028f7",
   "metadata": {},
   "outputs": [],
   "source": [
    "columna_res['posted'] = columna_res['posted'].str.replace(\"Posted\", \"\") #Limpio la fecha"
   ]
  },
  {
   "cell_type": "code",
   "execution_count": 47,
   "id": "322aea2a",
   "metadata": {},
   "outputs": [
    {
     "data": {
      "text/plain": [
       "(59333, 7)"
      ]
     },
     "execution_count": 47,
     "metadata": {},
     "output_type": "execute_result"
    }
   ],
   "source": [
    "columna_res.shape #Comparo las tablas para verificar que tengan la misma cantidad de registros y asi unirlas"
   ]
  },
  {
   "cell_type": "code",
   "execution_count": 48,
   "id": "58572e5f",
   "metadata": {},
   "outputs": [
    {
     "data": {
      "text/plain": [
       "(59333, 3)"
      ]
     },
     "execution_count": 48,
     "metadata": {},
     "output_type": "execute_result"
    }
   ],
   "source": [
    "resenia_limpia.shape"
   ]
  },
  {
   "cell_type": "code",
   "execution_count": 49,
   "id": "5b47bc02",
   "metadata": {},
   "outputs": [],
   "source": [
    "columna_res['User'] = resenia_limpia['user_id'] #Agrego a las reseñas el usuario que la realizo"
   ]
  },
  {
   "cell_type": "code",
   "execution_count": 50,
   "id": "d0ea3690",
   "metadata": {},
   "outputs": [
    {
     "data": {
      "text/html": [
       "<div>\n",
       "<style scoped>\n",
       "    .dataframe tbody tr th:only-of-type {\n",
       "        vertical-align: middle;\n",
       "    }\n",
       "\n",
       "    .dataframe tbody tr th {\n",
       "        vertical-align: top;\n",
       "    }\n",
       "\n",
       "    .dataframe thead th {\n",
       "        text-align: right;\n",
       "    }\n",
       "</style>\n",
       "<table border=\"1\" class=\"dataframe\">\n",
       "  <thead>\n",
       "    <tr style=\"text-align: right;\">\n",
       "      <th></th>\n",
       "      <th>funny</th>\n",
       "      <th>posted</th>\n",
       "      <th>last_edited</th>\n",
       "      <th>item_id</th>\n",
       "      <th>helpful</th>\n",
       "      <th>recommend</th>\n",
       "      <th>review</th>\n",
       "      <th>User</th>\n",
       "    </tr>\n",
       "  </thead>\n",
       "  <tbody>\n",
       "    <tr>\n",
       "      <th>0</th>\n",
       "      <td></td>\n",
       "      <td>November 5, 2011.</td>\n",
       "      <td></td>\n",
       "      <td>1250</td>\n",
       "      <td>No ratings yet</td>\n",
       "      <td>True</td>\n",
       "      <td>Simple yet with great replayability. In my opi...</td>\n",
       "      <td>76561197970982479</td>\n",
       "    </tr>\n",
       "    <tr>\n",
       "      <th>1</th>\n",
       "      <td></td>\n",
       "      <td>July 15, 2011.</td>\n",
       "      <td></td>\n",
       "      <td>22200</td>\n",
       "      <td>No ratings yet</td>\n",
       "      <td>True</td>\n",
       "      <td>It's unique and worth a playthrough.</td>\n",
       "      <td>76561197970982479</td>\n",
       "    </tr>\n",
       "    <tr>\n",
       "      <th>2</th>\n",
       "      <td></td>\n",
       "      <td>April 21, 2011.</td>\n",
       "      <td></td>\n",
       "      <td>43110</td>\n",
       "      <td>No ratings yet</td>\n",
       "      <td>True</td>\n",
       "      <td>Great atmosphere. The gunplay can be a bit chu...</td>\n",
       "      <td>76561197970982479</td>\n",
       "    </tr>\n",
       "    <tr>\n",
       "      <th>3</th>\n",
       "      <td></td>\n",
       "      <td>June 24, 2014.</td>\n",
       "      <td></td>\n",
       "      <td>251610</td>\n",
       "      <td>15 of 20 people (75%) found this review helpful</td>\n",
       "      <td>True</td>\n",
       "      <td>I know what you think when you see this title ...</td>\n",
       "      <td>js41637</td>\n",
       "    </tr>\n",
       "    <tr>\n",
       "      <th>4</th>\n",
       "      <td></td>\n",
       "      <td>September 8, 2013.</td>\n",
       "      <td></td>\n",
       "      <td>227300</td>\n",
       "      <td>0 of 1 people (0%) found this review helpful</td>\n",
       "      <td>True</td>\n",
       "      <td>For a simple (it's actually not all that simpl...</td>\n",
       "      <td>js41637</td>\n",
       "    </tr>\n",
       "  </tbody>\n",
       "</table>\n",
       "</div>"
      ],
      "text/plain": [
       "  funny               posted last_edited item_id  \\\n",
       "0          November 5, 2011.                1250   \n",
       "1             July 15, 2011.               22200   \n",
       "2            April 21, 2011.               43110   \n",
       "3             June 24, 2014.              251610   \n",
       "4         September 8, 2013.              227300   \n",
       "\n",
       "                                           helpful recommend  \\\n",
       "0                                   No ratings yet      True   \n",
       "1                                   No ratings yet      True   \n",
       "2                                   No ratings yet      True   \n",
       "3  15 of 20 people (75%) found this review helpful      True   \n",
       "4     0 of 1 people (0%) found this review helpful      True   \n",
       "\n",
       "                                              review               User  \n",
       "0  Simple yet with great replayability. In my opi...  76561197970982479  \n",
       "1               It's unique and worth a playthrough.  76561197970982479  \n",
       "2  Great atmosphere. The gunplay can be a bit chu...  76561197970982479  \n",
       "3  I know what you think when you see this title ...            js41637  \n",
       "4  For a simple (it's actually not all that simpl...            js41637  "
      ]
     },
     "execution_count": 50,
     "metadata": {},
     "output_type": "execute_result"
    }
   ],
   "source": [
    "columna_res.head()"
   ]
  },
  {
   "cell_type": "code",
   "execution_count": 51,
   "id": "d09ece0d",
   "metadata": {},
   "outputs": [],
   "source": [
    "columna_res=columna_res.dropna() #Elimino los valores nulos"
   ]
  },
  {
   "cell_type": "code",
   "execution_count": 52,
   "id": "1bac428d",
   "metadata": {},
   "outputs": [],
   "source": [
    "columna_res.to_csv('review_funciones.csv') #Guardo"
   ]
  },
  {
   "cell_type": "code",
   "execution_count": 12,
   "id": "c0907d20",
   "metadata": {},
   "outputs": [],
   "source": [
    "review=pd.read_csv('review_funciones.csv').drop('Unnamed: 0', axis=1) #Abro"
   ]
  },
  {
   "cell_type": "code",
   "execution_count": 7,
   "id": "d1171773",
   "metadata": {},
   "outputs": [],
   "source": [
    "eliminar= ['funny', 'last_edited', 'helpful']"
   ]
  },
  {
   "cell_type": "code",
   "execution_count": 8,
   "id": "f6603677",
   "metadata": {},
   "outputs": [],
   "source": [
    "review.drop(eliminar,axis=1,inplace=True)"
   ]
  },
  {
   "cell_type": "code",
   "execution_count": 54,
   "id": "eab3e025",
   "metadata": {},
   "outputs": [],
   "source": [
    "review['item_id'] = review['item_id'].astype(int) #Transformo item_id en int"
   ]
  },
  {
   "cell_type": "code",
   "execution_count": 55,
   "id": "dfbd6e8d",
   "metadata": {},
   "outputs": [],
   "source": [
    "review = review.dropna(subset=['review']) #Dropeo los valores nulos de la columna review"
   ]
  },
  {
   "cell_type": "code",
   "execution_count": 14,
   "id": "b616a3a2",
   "metadata": {},
   "outputs": [],
   "source": [
    "review.to_csv('review_funciones.csv', index=False)#guardo"
   ]
  },
  {
   "cell_type": "markdown",
   "id": "53680188",
   "metadata": {},
   "source": [
    "Aqui realizo el ETL la tabla que voy a usar en el sistema de recomendacion"
   ]
  },
  {
   "cell_type": "code",
   "execution_count": 13,
   "id": "4482b223",
   "metadata": {},
   "outputs": [],
   "source": [
    "review= pd.read_csv('review_funciones.csv').drop(['Unnamed: 0','funny','last_edited','posted','review','helpful'], axis=1)\n",
    "#Abro el csv eliminando las columnas que no necesito para mi modelo de recomendacion"
   ]
  },
  {
   "cell_type": "code",
   "execution_count": 18,
   "id": "4747c282",
   "metadata": {},
   "outputs": [],
   "source": [
    "mask = review['recommend'] == True #Creo una mascara lo que hace esta mascara es filtrar las recomendaciones en True que quiere decir que el usuario ha recomendado el juego porque le gusto"
   ]
  },
  {
   "cell_type": "code",
   "execution_count": 15,
   "id": "8c050c57",
   "metadata": {},
   "outputs": [
    {
     "data": {
      "text/plain": [
       "(59275, 3)"
      ]
     },
     "execution_count": 15,
     "metadata": {},
     "output_type": "execute_result"
    }
   ],
   "source": [
    "review.shape #Veo la dimension de reseñas"
   ]
  },
  {
   "cell_type": "code",
   "execution_count": 19,
   "id": "0f1966a0",
   "metadata": {},
   "outputs": [],
   "source": [
    "aux= review[mask] #Creo una tabla auxiliar con la mascara"
   ]
  },
  {
   "cell_type": "code",
   "execution_count": 20,
   "id": "1f9d2086",
   "metadata": {},
   "outputs": [
    {
     "data": {
      "text/plain": [
       "(52446, 3)"
      ]
     },
     "execution_count": 20,
     "metadata": {},
     "output_type": "execute_result"
    }
   ],
   "source": [
    "aux.shape #Veo la dimension de la nueva tabla"
   ]
  },
  {
   "cell_type": "code",
   "execution_count": 23,
   "id": "2c241baa",
   "metadata": {},
   "outputs": [
    {
     "data": {
      "text/html": [
       "<div>\n",
       "<style scoped>\n",
       "    .dataframe tbody tr th:only-of-type {\n",
       "        vertical-align: middle;\n",
       "    }\n",
       "\n",
       "    .dataframe tbody tr th {\n",
       "        vertical-align: top;\n",
       "    }\n",
       "\n",
       "    .dataframe thead th {\n",
       "        text-align: right;\n",
       "    }\n",
       "</style>\n",
       "<table border=\"1\" class=\"dataframe\">\n",
       "  <thead>\n",
       "    <tr style=\"text-align: right;\">\n",
       "      <th></th>\n",
       "      <th>item_id</th>\n",
       "      <th>User</th>\n",
       "    </tr>\n",
       "  </thead>\n",
       "  <tbody>\n",
       "    <tr>\n",
       "      <th>0</th>\n",
       "      <td>1250</td>\n",
       "      <td>76561197970982479</td>\n",
       "    </tr>\n",
       "    <tr>\n",
       "      <th>1</th>\n",
       "      <td>22200</td>\n",
       "      <td>76561197970982479</td>\n",
       "    </tr>\n",
       "    <tr>\n",
       "      <th>2</th>\n",
       "      <td>43110</td>\n",
       "      <td>76561197970982479</td>\n",
       "    </tr>\n",
       "    <tr>\n",
       "      <th>3</th>\n",
       "      <td>251610</td>\n",
       "      <td>js41637</td>\n",
       "    </tr>\n",
       "    <tr>\n",
       "      <th>4</th>\n",
       "      <td>227300</td>\n",
       "      <td>js41637</td>\n",
       "    </tr>\n",
       "  </tbody>\n",
       "</table>\n",
       "</div>"
      ],
      "text/plain": [
       "   item_id               User\n",
       "0     1250  76561197970982479\n",
       "1    22200  76561197970982479\n",
       "2    43110  76561197970982479\n",
       "3   251610            js41637\n",
       "4   227300            js41637"
      ]
     },
     "execution_count": 23,
     "metadata": {},
     "output_type": "execute_result"
    }
   ],
   "source": [
    "aux.head() #Reviso"
   ]
  },
  {
   "cell_type": "code",
   "execution_count": 22,
   "id": "ac492a37",
   "metadata": {},
   "outputs": [
    {
     "name": "stderr",
     "output_type": "stream",
     "text": [
      "C:\\Users\\Andy\\AppData\\Local\\Temp\\ipykernel_1136\\1325450796.py:1: SettingWithCopyWarning: \n",
      "A value is trying to be set on a copy of a slice from a DataFrame\n",
      "\n",
      "See the caveats in the documentation: https://pandas.pydata.org/pandas-docs/stable/user_guide/indexing.html#returning-a-view-versus-a-copy\n",
      "  aux.drop('recommend',axis=1,inplace=True)\n"
     ]
    }
   ],
   "source": [
    "aux.drop('recommend',axis=1,inplace=True) #Borro la columna de recomendacion que ya no me sirve"
   ]
  },
  {
   "cell_type": "code",
   "execution_count": 25,
   "id": "70cf5479",
   "metadata": {},
   "outputs": [],
   "source": [
    "aux.to_csv('review_ml.csv', index= False) #Guardo la tabla que usare en el modelo de recomendacion"
   ]
  },
  {
   "cell_type": "code",
   "execution_count": null,
   "id": "9b484df2",
   "metadata": {},
   "outputs": [],
   "source": []
  }
 ],
 "metadata": {
  "colab": {
   "provenance": []
  },
  "kernelspec": {
   "display_name": "Python 3 (ipykernel)",
   "language": "python",
   "name": "python3"
  },
  "language_info": {
   "codemirror_mode": {
    "name": "ipython",
    "version": 3
   },
   "file_extension": ".py",
   "mimetype": "text/x-python",
   "name": "python",
   "nbconvert_exporter": "python",
   "pygments_lexer": "ipython3",
   "version": "3.11.3"
  },
  "toc": {
   "base_numbering": 1,
   "nav_menu": {},
   "number_sections": true,
   "sideBar": true,
   "skip_h1_title": false,
   "title_cell": "Table of Contents",
   "title_sidebar": "Contents",
   "toc_cell": false,
   "toc_position": {},
   "toc_section_display": true,
   "toc_window_display": false
  },
  "vscode": {
   "interpreter": {
    "hash": "0de44e77179c5f1387f6ae5093afa3821e110b922dd2f6de64622a94a2c00df9"
   }
  }
 },
 "nbformat": 4,
 "nbformat_minor": 5
}
