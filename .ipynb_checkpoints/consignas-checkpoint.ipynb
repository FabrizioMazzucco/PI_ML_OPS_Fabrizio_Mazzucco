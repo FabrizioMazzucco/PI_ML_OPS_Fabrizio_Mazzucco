{
 "cells": [
  {
   "cell_type": "code",
   "execution_count": 2,
   "id": "5ed6a001",
   "metadata": {},
   "outputs": [],
   "source": [
    "import pandas as pd"
   ]
  },
  {
   "cell_type": "code",
   "execution_count": 3,
   "id": "771b01ba",
   "metadata": {},
   "outputs": [],
   "source": [
    "review=pd.read_csv('columna_resenia.csv').drop('Unnamed: 0', axis=1) #Abrimos las reseñas"
   ]
  },
  {
   "cell_type": "code",
   "execution_count": 4,
   "id": "b5dc84a2",
   "metadata": {},
   "outputs": [],
   "source": [
    "juego=pd.read_csv('juego_ejercicio.csv').drop('Unnamed: 0', axis=1) #Abrimos los juegos"
   ]
  },
  {
   "cell_type": "code",
   "execution_count": 5,
   "id": "e43c073c",
   "metadata": {},
   "outputs": [],
   "source": [
    "item=pd.read_csv('item_ejercicio.csv') #Abrimos los juegos por usuario"
   ]
  },
  {
   "cell_type": "code",
   "execution_count": 10,
   "id": "4d842246",
   "metadata": {},
   "outputs": [],
   "source": [
    "def UsersNotRecommend(año_deseado):\n",
    "    df_filtrado = review[review['posted'].str.contains(str(año_deseado))] # Filtra las reseñas por el año deseado\n",
    "    conteo_por_item_id = df_filtrado[df_filtrado['recommend'] == True].groupby('item_id')['recommend'].count() # Cuenta las reseñas recomendadas por juego\n",
    "    conteo_ordenado = conteo_por_item_id.sort_values(ascending=True)  # Ordena los juegos por cantidad de reseñas recomendadas de menor a mayor\n",
    "    bottom_3_item_id = conteo_ordenado.head(3)# Selecciona los 3 juegos con las menores cantidades de reseñas recomendadas\n",
    "    bottom_3_item_id = bottom_3_item_id.reset_index()# Reinicia el índice del DataFrame resultante\n",
    "    bottom_3_item_id = bottom_3_item_id.rename(columns={'recommend': 'count'}) # Renombra la columna 'recommend' a 'count'\n",
    "    resultado_final = bottom_3_item_id.merge(juego, left_on='item_id', right_on='id', how='inner')[['item_id', 'title', 'count']] # Combina los datos de juegos peor recomendados con información del juego (nombre y otros detalles)\n",
    "    return print(resultado_final.drop_duplicates().to_string(index=False)) # Imprime el resultado final sin duplicados y sin mostrar el índice"
   ]
  },
  {
   "cell_type": "code",
   "execution_count": 11,
   "id": "b57a8d41",
   "metadata": {},
   "outputs": [
    {
     "name": "stdout",
     "output_type": "stream",
     "text": [
      " item_id                              title  count\n",
      "  339350                   Choice of Robots      1\n",
      "   99700                           NightSky      1\n",
      "  261110 Killer is Dead - Nightmare Edition      1\n"
     ]
    }
   ],
   "source": [
    "UsersNotRecommend(2014)\n"
   ]
  },
  {
   "cell_type": "code",
   "execution_count": 12,
   "id": "174854a4",
   "metadata": {},
   "outputs": [],
   "source": [
    "def UsersRecommend(año_deseado):\n",
    "    df_filtrado = review[review['posted'].str.contains(str(año_deseado))]   # Filtra las reseñas por el año deseado\n",
    "    conteo_por_item_id = df_filtrado[df_filtrado['recommend'] == True].groupby('item_id')['recommend'].count() # Cuenta las reseñas recomendadas por juego\n",
    "    conteo_ordenado = conteo_por_item_id.sort_values(ascending=False) # Ordena los juegos por cantidad de reseñas recomendadas (de mayor a menor)\n",
    "    top_3_item_id = conteo_ordenado.head(3) # Selecciona los 3 juegos con las mayores cantidades de reseñas recomendadas\n",
    "    top_3_item_id = top_3_item_id.reset_index() # Reinicia el índice del DataFrame resultante\n",
    "    top_3_item_id = top_3_item_id.rename(columns={'recommend': 'count'}) # Renombra la columna 'recommend' a 'count'\n",
    "    resultado_final = top_3_item_id.merge(juego, left_on='item_id', right_on='id', how='inner')[['item_id', 'title', 'count']] # Combina los datos de los juegos mejor recomendados con información del juego (nombre y otros detalles)\n",
    "    return print(resultado_final.drop_duplicates().to_string(index=False))  # Imprime el resultado final sin duplicados y sin mostrar el índice"
   ]
  },
  {
   "cell_type": "code",
   "execution_count": 13,
   "id": "f3d0ce66",
   "metadata": {},
   "outputs": [
    {
     "name": "stdout",
     "output_type": "stream",
     "text": [
      " item_id                            title  count\n",
      "     440                  Team Fortress 2   1563\n",
      "     730 Counter-Strike: Global Offensive   1078\n",
      "    4000                      Garry's Mod    764\n"
     ]
    }
   ],
   "source": [
    "UsersRecommend(2014)"
   ]
  },
  {
   "cell_type": "code",
   "execution_count": 14,
   "id": "afcf04a8",
   "metadata": {},
   "outputs": [
    {
     "name": "stderr",
     "output_type": "stream",
     "text": [
      "[nltk_data] Downloading package vader_lexicon to\n",
      "[nltk_data]     C:\\Users\\Andy\\AppData\\Roaming\\nltk_data...\n",
      "[nltk_data]   Package vader_lexicon is already up-to-date!\n"
     ]
    },
    {
     "data": {
      "text/plain": [
       "True"
      ]
     },
     "execution_count": 14,
     "metadata": {},
     "output_type": "execute_result"
    }
   ],
   "source": [
    "import nltk #Importo las cosas que necesito para el analisis de sentimiento\n",
    "from nltk.sentiment.vader import SentimentIntensityAnalyzer\n",
    "nltk.download('vader_lexicon')"
   ]
  },
  {
   "cell_type": "code",
   "execution_count": 15,
   "id": "441eb94d",
   "metadata": {},
   "outputs": [],
   "source": [
    "def sentiment_analysis(anio):\n",
    "    analyzer = SentimentIntensityAnalyzer() # Crea un objeto SentimentIntensityAnalyzer para análisis de sentimiento\n",
    "    df_filtrado = review[review['posted'].str.contains(str(anio))]  # Filtra las reseñas por el año deseado\n",
    "    df_filtrado['sentiment'] = df_filtrado['review'].apply(lambda x: analyzer.polarity_scores(x)['compound']) # Calcula el puntaje de sentimiento (compound) para cada reseña\n",
    "    # Inicializa contadores para reseñas positivas, negativas y neutrales\n",
    "    positivos = 0\n",
    "    negativos = 0\n",
    "    neutrales = 0\n",
    "    for compound_score in df_filtrado['sentiment']: # Clasifica las reseñas en positivas, negativas o neutrales\n",
    "        if compound_score >= 0.05:\n",
    "            positivos += 1\n",
    "        elif compound_score <= -0.05:\n",
    "            negativos += 1\n",
    "        else:\n",
    "            neutrales += 1\n",
    "    # Devuelve un diccionario con la cantidad de reseñas positivas, negativas y neutrales\n",
    "    return {\n",
    "        'Positivos': positivos,\n",
    "        'Negativos': negativos,\n",
    "        'Neutrales': neutrales\n",
    "    }\n"
   ]
  },
  {
   "cell_type": "code",
   "execution_count": 17,
   "id": "d3e5da3c",
   "metadata": {},
   "outputs": [
    {
     "name": "stderr",
     "output_type": "stream",
     "text": [
      "C:\\Users\\Andy\\AppData\\Local\\Temp\\ipykernel_6360\\1294684750.py:4: SettingWithCopyWarning: \n",
      "A value is trying to be set on a copy of a slice from a DataFrame.\n",
      "Try using .loc[row_indexer,col_indexer] = value instead\n",
      "\n",
      "See the caveats in the documentation: https://pandas.pydata.org/pandas-docs/stable/user_guide/indexing.html#returning-a-view-versus-a-copy\n",
      "  df_filtrado['sentiment'] = df_filtrado['review'].apply(lambda x: analyzer.polarity_scores(x)['compound'])\n"
     ]
    },
    {
     "data": {
      "text/plain": [
       "{'Positivos': 4679, 'Negativos': 763, 'Neutrales': 1344}"
      ]
     },
     "execution_count": 17,
     "metadata": {},
     "output_type": "execute_result"
    }
   ],
   "source": [
    "sentiment_analysis(2013)"
   ]
  },
  {
   "cell_type": "code",
   "execution_count": 18,
   "id": "d31b1efc",
   "metadata": {},
   "outputs": [],
   "source": [
    "def PlayTimeGenre(genero_deseado):\n",
    "    juegos_genero = juego[juego['genres'] == genero_deseado] # Filtra los juegos por el género deseado\n",
    "    if juegos_genero.empty:  # Verifica si no hay juegos en el género deseado\n",
    "        return None\n",
    "    tabla_completa = juegos_genero.merge(item, left_on='id', right_on='item_id', how='inner') # Combina los datos de los juegos con los datos de los ítems\n",
    "    tabla_completa['año'] = pd.to_datetime(tabla_completa['release_date']).dt.year# Convierte la columna 'release_date' en formato de fecha y extrae el año\n",
    "    resumen_por_año = tabla_completa.groupby('año')['playtime_forever'].sum().reset_index() # Resumen: suma las horas jugadas por año\n",
    "    año_mas_horas_jugadas = resumen_por_año[resumen_por_año['playtime_forever'] == resumen_por_año['playtime_forever'].max()] # Encuentra el año con más horas jugadas\n",
    "    return int(año_mas_horas_jugadas['año'].values[0])  # Devuelve el año con más horas jugadas como entero"
   ]
  },
  {
   "cell_type": "code",
   "execution_count": 19,
   "id": "e762dca1",
   "metadata": {},
   "outputs": [
    {
     "data": {
      "text/plain": [
       "2013"
      ]
     },
     "execution_count": 19,
     "metadata": {},
     "output_type": "execute_result"
    }
   ],
   "source": [
    "PlayTimeGenre('Free to Play')"
   ]
  },
  {
   "cell_type": "code",
   "execution_count": 20,
   "id": "4854dbd4",
   "metadata": {},
   "outputs": [],
   "source": [
    "def UserForGenre(genero_buscado):\n",
    "    juegos_genero = juego[juego['genres'] == genero_buscado] # Filtra los juegos por el género buscad\n",
    "    merge_df = juegos_genero.merge(item, left_on='id', right_on='item_id', how='inner')  # Combina los datos de los juegos con los datos de los ítems\n",
    "    grouped = merge_df.groupby(['user_id', 'release_date', 'genres'])['playtime_forever'].sum().reset_index() # Agrupa por usuario, fecha de lanzamiento y género, sumando las horas jugadas\n",
    "    max_playtime_users = grouped.loc[grouped.groupby(['release_date', 'genres'])['playtime_forever'].idxmax()] # Encuentra al usuario con más horas jugadas por fecha de lanzamiento y género\n",
    "    result = {} # Crea un diccionario para almacenar el resultado por año \n",
    "    # Itera a través de los usuarios con más horas jugadas\n",
    "    for _, row in max_playtime_users.iterrows():\n",
    "        year = pd.to_datetime(row['release_date']).year\n",
    "        if year not in result:\n",
    "            result[year] = {'Año': year, 'Horas': row['playtime_forever']}\n",
    "        else:\n",
    "            result[year]['Horas'] += row['playtime_forever']\n",
    "    max_user = max_playtime_users.iloc[0]['user_id']  # Encuentra al usuario con más horas jugadas en general\n",
    "    # Formatea el resultado final\n",
    "    formatted_result = {\n",
    "        \"Usuario con más horas jugadas para \" + genero_buscado: max_user,\n",
    "        \"Horas jugadas\": list(result.values())\n",
    "    }\n",
    "    \n",
    "    return formatted_result #Devuelve en diccionario el jugador que mas jugo el genero y las horas jugadas por año"
   ]
  },
  {
   "cell_type": "code",
   "execution_count": 21,
   "id": "6d934bb7",
   "metadata": {},
   "outputs": [
    {
     "data": {
      "text/plain": [
       "{'Usuario con más horas jugadas para RPG': 'theultimatedan',\n",
       " 'Horas jugadas': [{'Año': 1988, 'Horas': 372},\n",
       "  {'Año': 1991, 'Horas': 0},\n",
       "  {'Año': 1992, 'Horas': 31},\n",
       "  {'Año': 1994, 'Horas': 973},\n",
       "  {'Año': 1996, 'Horas': 927},\n",
       "  {'Año': 1997, 'Horas': 5311},\n",
       "  {'Año': 1998, 'Horas': 12534},\n",
       "  {'Año': 1999, 'Horas': 5406},\n",
       "  {'Año': 2000, 'Horas': 2441},\n",
       "  {'Año': 2001, 'Horas': 19968},\n",
       "  {'Año': 2002, 'Horas': 35885},\n",
       "  {'Año': 2003, 'Horas': 323503},\n",
       "  {'Año': 2004, 'Horas': 3684},\n",
       "  {'Año': 2005, 'Horas': 67073},\n",
       "  {'Año': 2006, 'Horas': 22184},\n",
       "  {'Año': 2007, 'Horas': 93693},\n",
       "  {'Año': 2008, 'Horas': 102967},\n",
       "  {'Año': 2009, 'Horas': 402127},\n",
       "  {'Año': 2010, 'Horas': 705674},\n",
       "  {'Año': 2011, 'Horas': 1148724},\n",
       "  {'Año': 2012, 'Horas': 1521947},\n",
       "  {'Año': 2013, 'Horas': 1394052},\n",
       "  {'Año': 2014, 'Horas': 1629223},\n",
       "  {'Año': 2015, 'Horas': 1808690},\n",
       "  {'Año': 2016, 'Horas': 733547},\n",
       "  {'Año': 2017, 'Horas': 329959},\n",
       "  {'Año': 2018, 'Horas': 249}]}"
      ]
     },
     "execution_count": 21,
     "metadata": {},
     "output_type": "execute_result"
    }
   ],
   "source": [
    "UserForGenre('RPG')"
   ]
  },
  {
   "cell_type": "code",
   "execution_count": null,
   "id": "167c26e9",
   "metadata": {},
   "outputs": [],
   "source": []
  }
 ],
 "metadata": {
  "colab": {
   "provenance": []
  },
  "kernelspec": {
   "display_name": "Python 3 (ipykernel)",
   "language": "python",
   "name": "python3"
  },
  "language_info": {
   "codemirror_mode": {
    "name": "ipython",
    "version": 3
   },
   "file_extension": ".py",
   "mimetype": "text/x-python",
   "name": "python",
   "nbconvert_exporter": "python",
   "pygments_lexer": "ipython3",
   "version": "3.11.3"
  }
 },
 "nbformat": 4,
 "nbformat_minor": 5
}
